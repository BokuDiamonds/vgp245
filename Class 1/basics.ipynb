{
 "cells": [
  {
   "cell_type": "markdown",
   "metadata": {
    "collapsed": true
   },
   "source": [
    "#VGP 245\n",
    "## Class 1 - Python Basics\n",
    "\n",
    "### Introduction\n",
    "Python is a high-level programming language that is processed by the Python \"interpreter\" to produce results.\n",
    "Python includes a comprehensive standard library of tested code modules that can be easily incorporated into your own program.\n",
    "\n",
    "#### Facts\n",
    "\n",
    "Python was developed by _Guido van Rossum_ in the late 1980s and early 1990s at the National Research Institutue for Mathematics and Computer Science in the Netherlands.\n",
    "\n",
    "Python is derived from many other languages, including C, C++, the Unix shell, and other programming languages.\n",
    "\n",
    "Basic philosophy of the Python Language is readability (making easy for beginners to dive in)\n",
    "\n",
    "+ Beautiful is better than ugly.\n",
    "+ Explicit is better than implicit.\n",
    "+ Simple is better than complex.\n",
    "+ Complex is better than complicated.\n",
    "+ Readability counts.\n",
    "\n",
    "Python uses indentation to group together statements into code \"blocks\", whereas other languages may use keywords such as __begin__ and __end__ (i.e. Pascal) or __{}__ braces (i.e. C).  Main purpose is to uncluttered visual layout.\n",
    "\n",
    "#### What makes python a popular choice for beginners?\n",
    "\n",
    "+ is free\n",
    "+ is easy to learn\n",
    "+ is easy to read\n",
    "+ is easy to maintain\n",
    "+ is \"batteries include\" - provides a laege standard library for easy integration into your own program\n",
    "+ is interactive - has a terminal for debugging and testing snippets of code\n",
    "+ is portable - runs on a wide variety of hardware and platfroms\n",
    "+ is interpreted - no compilation required\n",
    "+ is high-level - has automatic memory management\n",
    "+ is extensible - allows the addition of low-level modules to the interpreter for customization\n",
    "+ is versatile - supports both procedure-orientated programming and object-orientated programming (OOP)\n",
    "+ is flexible - create console programs, windowed GUI apps, and CGI (Common Gateway Interface) scripts to process web data\n",
    "\n",
    "Final version of 2.7 is out, but the main focus of this course is on Python 3.6+\n",
    "\n",
    "\n",
    "\n"
   ]
  },
  {
   "cell_type": "code",
   "execution_count": null,
   "metadata": {},
   "outputs": [],
   "source": []
  }
 ],
 "metadata": {
  "kernelspec": {
   "display_name": "Python 2",
   "language": "python",
   "name": "python2"
  },
  "language_info": {
   "codemirror_mode": {
    "name": "ipython",
    "version": 2
   },
   "file_extension": ".py",
   "mimetype": "text/x-python",
   "name": "python",
   "nbconvert_exporter": "python",
   "pygments_lexer": "ipython2",
   "version": "2.7.6"
  }
 },
 "nbformat": 4,
 "nbformat_minor": 0
}
